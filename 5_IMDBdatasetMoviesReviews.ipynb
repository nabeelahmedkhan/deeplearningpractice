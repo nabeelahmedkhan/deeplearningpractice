{
  "nbformat": 4,
  "nbformat_minor": 0,
  "metadata": {
    "colab": {
      "name": "5_IMDBdatasetMoviesReviews.ipynb",
      "provenance": [],
      "collapsed_sections": [],
      "include_colab_link": true
    },
    "kernelspec": {
      "name": "python3",
      "display_name": "Python 3"
    }
  },
  "cells": [
    {
      "cell_type": "markdown",
      "metadata": {
        "id": "view-in-github",
        "colab_type": "text"
      },
      "source": [
        "<a href=\"https://colab.research.google.com/github/nabeelahmedkhan/deeplearningpractice/blob/master/5_IMDBdatasetMoviesReviews.ipynb\" target=\"_parent\"><img src=\"https://colab.research.google.com/assets/colab-badge.svg\" alt=\"Open In Colab\"/></a>"
      ]
    },
    {
      "cell_type": "code",
      "metadata": {
        "id": "Kzh6aZtC8VVU",
        "colab_type": "code",
        "outputId": "bbfffbef-3346-4ccf-b383-67268966d4ed",
        "colab": {
          "base_uri": "https://localhost:8080/",
          "height": 148
        }
      },
      "source": [
        "from keras.datasets import imdb\n",
        "import numpy as np\n",
        "\n",
        "(train_data, train_labels),(test_data, test_labels) = imdb.load_data(num_words=10000)\n",
        "# print(train_data[0])\n",
        "# print(train_labels[0]) \n",
        "# print(max([max(i) for i in train_data]))\n",
        "# print(len(train_data))\n",
        "word_index = imdb.get_word_index()\n",
        "index_2_word = dict([(value , key) for (key , value) in word_index.items()])\n",
        "# print(index_2_word.get(368))\n",
        "decode_review = ' '.join([index_2_word.get(i - 3 , \"?\") for i in train_data[0]])\n",
        "# print(decode_review)\n",
        "\n",
        "def vectorize_sequence(sequences, dimension = 10000):\n",
        "    results = np.zeros((len(sequences), dimension))\n",
        "    # print(results[0])\n",
        "    for i, sequence in enumerate(sequences):\n",
        "        results[i, sequence] = 1\n",
        "    # print(results[0])\n",
        "    return results\n",
        "x_train = vectorize_sequence(train_data)\n",
        "x_test = vectorize_sequence(test_data)\n"
      ],
      "execution_count": 1,
      "outputs": [
        {
          "output_type": "stream",
          "text": [
            "Using TensorFlow backend.\n"
          ],
          "name": "stderr"
        },
        {
          "output_type": "display_data",
          "data": {
            "text/html": [
              "<p style=\"color: red;\">\n",
              "The default version of TensorFlow in Colab will soon switch to TensorFlow 2.x.<br>\n",
              "We recommend you <a href=\"https://www.tensorflow.org/guide/migrate\" target=\"_blank\">upgrade</a> now \n",
              "or ensure your notebook will continue to use TensorFlow 1.x via the <code>%tensorflow_version 1.x</code> magic:\n",
              "<a href=\"https://colab.research.google.com/notebooks/tensorflow_version.ipynb\" target=\"_blank\">more info</a>.</p>\n"
            ],
            "text/plain": [
              "<IPython.core.display.HTML object>"
            ]
          },
          "metadata": {
            "tags": []
          }
        },
        {
          "output_type": "stream",
          "text": [
            "Downloading data from https://s3.amazonaws.com/text-datasets/imdb.npz\n",
            "17465344/17464789 [==============================] - 1s 0us/step\n",
            "Downloading data from https://s3.amazonaws.com/text-datasets/imdb_word_index.json\n",
            "1646592/1641221 [==============================] - 0s 0us/step\n"
          ],
          "name": "stdout"
        }
      ]
    },
    {
      "cell_type": "code",
      "metadata": {
        "id": "uIM_57U09MWp",
        "colab_type": "code",
        "outputId": "0bde526d-74a6-4535-a45e-aa344b9c4451",
        "colab": {
          "base_uri": "https://localhost:8080/",
          "height": 105
        }
      },
      "source": [
        "print(train_data[0:3])\n",
        "train_labels[0:3]\n",
        "print(max(max(a) for a in train_data))\n"
      ],
      "execution_count": 0,
      "outputs": [
        {
          "output_type": "stream",
          "text": [
            "[list([1, 14, 22, 16, 43, 530, 973, 1622, 1385, 65, 458, 4468, 66, 3941, 4, 173, 36, 256, 5, 25, 100, 43, 838, 112, 50, 670, 2, 9, 35, 480, 284, 5, 150, 4, 172, 112, 167, 2, 336, 385, 39, 4, 172, 4536, 1111, 17, 546, 38, 13, 447, 4, 192, 50, 16, 6, 147, 2025, 19, 14, 22, 4, 1920, 4613, 469, 4, 22, 71, 87, 12, 16, 43, 530, 38, 76, 15, 13, 1247, 4, 22, 17, 515, 17, 12, 16, 626, 18, 2, 5, 62, 386, 12, 8, 316, 8, 106, 5, 4, 2223, 5244, 16, 480, 66, 3785, 33, 4, 130, 12, 16, 38, 619, 5, 25, 124, 51, 36, 135, 48, 25, 1415, 33, 6, 22, 12, 215, 28, 77, 52, 5, 14, 407, 16, 82, 2, 8, 4, 107, 117, 5952, 15, 256, 4, 2, 7, 3766, 5, 723, 36, 71, 43, 530, 476, 26, 400, 317, 46, 7, 4, 2, 1029, 13, 104, 88, 4, 381, 15, 297, 98, 32, 2071, 56, 26, 141, 6, 194, 7486, 18, 4, 226, 22, 21, 134, 476, 26, 480, 5, 144, 30, 5535, 18, 51, 36, 28, 224, 92, 25, 104, 4, 226, 65, 16, 38, 1334, 88, 12, 16, 283, 5, 16, 4472, 113, 103, 32, 15, 16, 5345, 19, 178, 32])\n",
            " list([1, 194, 1153, 194, 8255, 78, 228, 5, 6, 1463, 4369, 5012, 134, 26, 4, 715, 8, 118, 1634, 14, 394, 20, 13, 119, 954, 189, 102, 5, 207, 110, 3103, 21, 14, 69, 188, 8, 30, 23, 7, 4, 249, 126, 93, 4, 114, 9, 2300, 1523, 5, 647, 4, 116, 9, 35, 8163, 4, 229, 9, 340, 1322, 4, 118, 9, 4, 130, 4901, 19, 4, 1002, 5, 89, 29, 952, 46, 37, 4, 455, 9, 45, 43, 38, 1543, 1905, 398, 4, 1649, 26, 6853, 5, 163, 11, 3215, 2, 4, 1153, 9, 194, 775, 7, 8255, 2, 349, 2637, 148, 605, 2, 8003, 15, 123, 125, 68, 2, 6853, 15, 349, 165, 4362, 98, 5, 4, 228, 9, 43, 2, 1157, 15, 299, 120, 5, 120, 174, 11, 220, 175, 136, 50, 9, 4373, 228, 8255, 5, 2, 656, 245, 2350, 5, 4, 9837, 131, 152, 491, 18, 2, 32, 7464, 1212, 14, 9, 6, 371, 78, 22, 625, 64, 1382, 9, 8, 168, 145, 23, 4, 1690, 15, 16, 4, 1355, 5, 28, 6, 52, 154, 462, 33, 89, 78, 285, 16, 145, 95])\n",
            " list([1, 14, 47, 8, 30, 31, 7, 4, 249, 108, 7, 4, 5974, 54, 61, 369, 13, 71, 149, 14, 22, 112, 4, 2401, 311, 12, 16, 3711, 33, 75, 43, 1829, 296, 4, 86, 320, 35, 534, 19, 263, 4821, 1301, 4, 1873, 33, 89, 78, 12, 66, 16, 4, 360, 7, 4, 58, 316, 334, 11, 4, 1716, 43, 645, 662, 8, 257, 85, 1200, 42, 1228, 2578, 83, 68, 3912, 15, 36, 165, 1539, 278, 36, 69, 2, 780, 8, 106, 14, 6905, 1338, 18, 6, 22, 12, 215, 28, 610, 40, 6, 87, 326, 23, 2300, 21, 23, 22, 12, 272, 40, 57, 31, 11, 4, 22, 47, 6, 2307, 51, 9, 170, 23, 595, 116, 595, 1352, 13, 191, 79, 638, 89, 2, 14, 9, 8, 106, 607, 624, 35, 534, 6, 227, 7, 129, 113])]\n",
            "9999\n"
          ],
          "name": "stdout"
        }
      ]
    },
    {
      "cell_type": "code",
      "metadata": {
        "id": "EVTvnK8r9sY7",
        "colab_type": "code",
        "outputId": "92ba165f-7702-4ae1-adf6-355288de5425",
        "colab": {
          "base_uri": "https://localhost:8080/",
          "height": 34
        }
      },
      "source": [
        "x_train[0]"
      ],
      "execution_count": 0,
      "outputs": [
        {
          "output_type": "execute_result",
          "data": {
            "text/plain": [
              "array([0., 1., 1., ..., 0., 0., 0.])"
            ]
          },
          "metadata": {
            "tags": []
          },
          "execution_count": 3
        }
      ]
    },
    {
      "cell_type": "code",
      "metadata": {
        "id": "Wr9Nr7BC__2k",
        "colab_type": "code",
        "colab": {}
      },
      "source": [
        "y_train = np.asarray(train_labels,dtype=np.float32)\n",
        "y_test = np.asarray(test_labels,dtype=np.float32)"
      ],
      "execution_count": 0,
      "outputs": []
    },
    {
      "cell_type": "code",
      "metadata": {
        "id": "-6se0moNkyYD",
        "colab_type": "code",
        "outputId": "07d1d90b-5798-4746-f3bb-f601086793d5",
        "colab": {
          "base_uri": "https://localhost:8080/",
          "height": 139
        }
      },
      "source": [
        "from keras.models import Sequential\n",
        "from keras.layers import Dense\n",
        "\n",
        "model = Sequential()\n",
        "model.add(Dense(4, activation = 'relu',input_shape = (10000,)))\n",
        "model.add(Dense(4, activation = 'relu'))\n",
        "model.add(Dense(1, activation = 'sigmoid'))"
      ],
      "execution_count": 3,
      "outputs": [
        {
          "output_type": "stream",
          "text": [
            "WARNING:tensorflow:From /usr/local/lib/python3.6/dist-packages/keras/backend/tensorflow_backend.py:66: The name tf.get_default_graph is deprecated. Please use tf.compat.v1.get_default_graph instead.\n",
            "\n",
            "WARNING:tensorflow:From /usr/local/lib/python3.6/dist-packages/keras/backend/tensorflow_backend.py:541: The name tf.placeholder is deprecated. Please use tf.compat.v1.placeholder instead.\n",
            "\n",
            "WARNING:tensorflow:From /usr/local/lib/python3.6/dist-packages/keras/backend/tensorflow_backend.py:4432: The name tf.random_uniform is deprecated. Please use tf.random.uniform instead.\n",
            "\n"
          ],
          "name": "stdout"
        }
      ]
    },
    {
      "cell_type": "code",
      "metadata": {
        "id": "z08R8v9koE0X",
        "colab_type": "code",
        "outputId": "ff189de2-00c8-4ea9-8ad6-58ad69ee90f0",
        "colab": {
          "base_uri": "https://localhost:8080/",
          "height": 71
        }
      },
      "source": [
        "model.compile(optimizer='rmsprop',\n",
        "              loss='mse',\n",
        "              metrics=['acc'])"
      ],
      "execution_count": 4,
      "outputs": [
        {
          "output_type": "stream",
          "text": [
            "WARNING:tensorflow:From /usr/local/lib/python3.6/dist-packages/keras/optimizers.py:793: The name tf.train.Optimizer is deprecated. Please use tf.compat.v1.train.Optimizer instead.\n",
            "\n"
          ],
          "name": "stdout"
        }
      ]
    },
    {
      "cell_type": "code",
      "metadata": {
        "id": "orWWiO1ioomp",
        "colab_type": "code",
        "colab": {}
      },
      "source": [
        "x_val = x_train[:10000]\n",
        "partial_x_train = x_train[10000:]\n",
        "y_val = y_train[:10000]\n",
        "partial_y_train = y_train[10000:]"
      ],
      "execution_count": 0,
      "outputs": []
    },
    {
      "cell_type": "code",
      "metadata": {
        "id": "W3DkebFPo9yB",
        "colab_type": "code",
        "outputId": "5333e233-1a69-4078-eafe-37edc252d7bd",
        "colab": {
          "base_uri": "https://localhost:8080/",
          "height": 1000
        }
      },
      "source": [
        "history = model.fit(partial_x_train,\n",
        "                      partial_y_train,\n",
        "                      epochs=20,\n",
        "                      batch_size=512,\n",
        "                      validation_data=(x_val, y_val))"
      ],
      "execution_count": 6,
      "outputs": [
        {
          "output_type": "stream",
          "text": [
            "WARNING:tensorflow:From /usr/local/lib/python3.6/dist-packages/keras/backend/tensorflow_backend.py:1033: The name tf.assign_add is deprecated. Please use tf.compat.v1.assign_add instead.\n",
            "\n",
            "WARNING:tensorflow:From /usr/local/lib/python3.6/dist-packages/keras/backend/tensorflow_backend.py:1020: The name tf.assign is deprecated. Please use tf.compat.v1.assign instead.\n",
            "\n",
            "WARNING:tensorflow:From /usr/local/lib/python3.6/dist-packages/keras/backend/tensorflow_backend.py:3005: The name tf.Session is deprecated. Please use tf.compat.v1.Session instead.\n",
            "\n",
            "Train on 15000 samples, validate on 10000 samples\n",
            "Epoch 1/20\n",
            "WARNING:tensorflow:From /usr/local/lib/python3.6/dist-packages/keras/backend/tensorflow_backend.py:190: The name tf.get_default_session is deprecated. Please use tf.compat.v1.get_default_session instead.\n",
            "\n",
            "WARNING:tensorflow:From /usr/local/lib/python3.6/dist-packages/keras/backend/tensorflow_backend.py:197: The name tf.ConfigProto is deprecated. Please use tf.compat.v1.ConfigProto instead.\n",
            "\n",
            "WARNING:tensorflow:From /usr/local/lib/python3.6/dist-packages/keras/backend/tensorflow_backend.py:207: The name tf.global_variables is deprecated. Please use tf.compat.v1.global_variables instead.\n",
            "\n",
            "WARNING:tensorflow:From /usr/local/lib/python3.6/dist-packages/keras/backend/tensorflow_backend.py:216: The name tf.is_variable_initialized is deprecated. Please use tf.compat.v1.is_variable_initialized instead.\n",
            "\n",
            "WARNING:tensorflow:From /usr/local/lib/python3.6/dist-packages/keras/backend/tensorflow_backend.py:223: The name tf.variables_initializer is deprecated. Please use tf.compat.v1.variables_initializer instead.\n",
            "\n",
            "15000/15000 [==============================] - 2s 161us/step - loss: 0.2141 - acc: 0.6117 - val_loss: 0.1958 - val_acc: 0.7782\n",
            "Epoch 2/20\n",
            "15000/15000 [==============================] - 2s 101us/step - loss: 0.1782 - acc: 0.8097 - val_loss: 0.1785 - val_acc: 0.8342\n",
            "Epoch 3/20\n",
            "15000/15000 [==============================] - 2s 106us/step - loss: 0.1606 - acc: 0.8685 - val_loss: 0.1705 - val_acc: 0.8055\n",
            "Epoch 4/20\n",
            "15000/15000 [==============================] - 2s 102us/step - loss: 0.1477 - acc: 0.8985 - val_loss: 0.1637 - val_acc: 0.8230\n",
            "Epoch 5/20\n",
            "15000/15000 [==============================] - 2s 103us/step - loss: 0.1340 - acc: 0.9220 - val_loss: 0.1475 - val_acc: 0.8670\n",
            "Epoch 6/20\n",
            "15000/15000 [==============================] - 2s 104us/step - loss: 0.1129 - acc: 0.9450 - val_loss: 0.1292 - val_acc: 0.8737\n",
            "Epoch 7/20\n",
            "15000/15000 [==============================] - 2s 104us/step - loss: 0.0876 - acc: 0.9565 - val_loss: 0.1118 - val_acc: 0.8856\n",
            "Epoch 8/20\n",
            "15000/15000 [==============================] - 1s 100us/step - loss: 0.0685 - acc: 0.9617 - val_loss: 0.0993 - val_acc: 0.8866\n",
            "Epoch 9/20\n",
            "15000/15000 [==============================] - 2s 101us/step - loss: 0.0542 - acc: 0.9656 - val_loss: 0.0924 - val_acc: 0.8867\n",
            "Epoch 10/20\n",
            "15000/15000 [==============================] - 2s 104us/step - loss: 0.0445 - acc: 0.9685 - val_loss: 0.0904 - val_acc: 0.8840\n",
            "Epoch 11/20\n",
            "15000/15000 [==============================] - 2s 102us/step - loss: 0.0376 - acc: 0.9719 - val_loss: 0.0878 - val_acc: 0.8859\n",
            "Epoch 12/20\n",
            "15000/15000 [==============================] - 2s 101us/step - loss: 0.0328 - acc: 0.9755 - val_loss: 0.0876 - val_acc: 0.8837\n",
            "Epoch 13/20\n",
            "15000/15000 [==============================] - 2s 103us/step - loss: 0.0284 - acc: 0.9789 - val_loss: 0.0902 - val_acc: 0.8799\n",
            "Epoch 14/20\n",
            "15000/15000 [==============================] - 2s 106us/step - loss: 0.0254 - acc: 0.9805 - val_loss: 0.0881 - val_acc: 0.8824\n",
            "Epoch 15/20\n",
            "15000/15000 [==============================] - 2s 103us/step - loss: 0.0221 - acc: 0.9839 - val_loss: 0.0907 - val_acc: 0.8791\n",
            "Epoch 16/20\n",
            "15000/15000 [==============================] - 2s 105us/step - loss: 0.0197 - acc: 0.9851 - val_loss: 0.0916 - val_acc: 0.8780\n",
            "Epoch 17/20\n",
            "15000/15000 [==============================] - 2s 102us/step - loss: 0.0174 - acc: 0.9870 - val_loss: 0.0917 - val_acc: 0.8774\n",
            "Epoch 18/20\n",
            "15000/15000 [==============================] - 2s 102us/step - loss: 0.0158 - acc: 0.9888 - val_loss: 0.0947 - val_acc: 0.8755\n",
            "Epoch 19/20\n",
            "15000/15000 [==============================] - 2s 103us/step - loss: 0.0139 - acc: 0.9899 - val_loss: 0.0983 - val_acc: 0.8715\n",
            "Epoch 20/20\n",
            "15000/15000 [==============================] - 2s 102us/step - loss: 0.0125 - acc: 0.9912 - val_loss: 0.0965 - val_acc: 0.8740\n"
          ],
          "name": "stdout"
        }
      ]
    },
    {
      "cell_type": "code",
      "metadata": {
        "id": "_7qneaSLgf_C",
        "colab_type": "code",
        "outputId": "6b4162b7-efdf-438e-ae78-2a6329cd5e25",
        "colab": {
          "base_uri": "https://localhost:8080/",
          "height": 51
        }
      },
      "source": [
        "results = model.evaluate(x_test,y_test)\n",
        "print(results)"
      ],
      "execution_count": 7,
      "outputs": [
        {
          "output_type": "stream",
          "text": [
            "25000/25000 [==============================] - 2s 77us/step\n",
            "[0.10521229534864425, 0.86132]\n"
          ],
          "name": "stdout"
        }
      ]
    },
    {
      "cell_type": "code",
      "metadata": {
        "id": "PN7lvPKpiD8K",
        "colab_type": "code",
        "outputId": "b6f4e87e-4af1-4f69-eb01-558940032b8d",
        "colab": {
          "base_uri": "https://localhost:8080/",
          "height": 119
        }
      },
      "source": [
        "y_predict = model.predict(x_test)\n",
        "print(y_predict[:5])\n",
        "print(\"Actual Y Test: \", y_test[:5])\n",
        "\n"
      ],
      "execution_count": 0,
      "outputs": [
        {
          "output_type": "stream",
          "text": [
            "[[0.07448089]\n",
            " [0.98963505]\n",
            " [0.48403195]\n",
            " [0.55889845]\n",
            " [0.93726194]]\n",
            "Actual Y Test:  [0. 1. 1. 0. 1.]\n"
          ],
          "name": "stdout"
        }
      ]
    },
    {
      "cell_type": "code",
      "metadata": {
        "id": "8FrDwuDApPTM",
        "colab_type": "code",
        "outputId": "8cf94394-9638-4bbb-dbff-dda31629879f",
        "colab": {
          "base_uri": "https://localhost:8080/",
          "height": 34
        }
      },
      "source": [
        "history_dict = history.history\n",
        "history_dict.keys()\n",
        "[u'acc', u'loss', u'val_acc', u'val_loss']\n"
      ],
      "execution_count": 8,
      "outputs": [
        {
          "output_type": "execute_result",
          "data": {
            "text/plain": [
              "['acc', 'loss', 'val_acc', 'val_loss']"
            ]
          },
          "metadata": {
            "tags": []
          },
          "execution_count": 8
        }
      ]
    },
    {
      "cell_type": "code",
      "metadata": {
        "id": "pbmJkLjKYW8l",
        "colab_type": "code",
        "outputId": "882b6a35-0e20-4cdf-b64f-55bff7eee952",
        "colab": {
          "base_uri": "https://localhost:8080/",
          "height": 295
        }
      },
      "source": [
        "from matplotlib import pyplot as plt\n",
        "%matplotlib inline\n",
        "loss_values = history_dict['loss']\n",
        "val_loss_values = history_dict['val_loss']\n",
        "epochs = range(1,len(history_dict['acc'])+1)\n",
        "plt.plot(epochs, loss_values, 'bo', label = 'Training Loss')\n",
        "plt.plot(epochs, val_loss_values, 'b', label = 'Validation Training Loss')\n",
        "plt.title('Training and Validating Loss')\n",
        "plt.xlabel('Epochs')\n",
        "plt.ylabel('Loss')\n",
        "plt.legend()\n",
        "plt.show() "
      ],
      "execution_count": 9,
      "outputs": [
        {
          "output_type": "display_data",
          "data": {
            "image/png": "[encoded data removed]",
            "text/plain": [
              "<Figure size 432x288 with 1 Axes>"
            ]
          },
          "metadata": {
            "tags": []
          }
        }
      ]
    },
    {
      "cell_type": "code",
      "metadata": {
        "id": "qxKIViKYakvJ",
        "colab_type": "code",
        "outputId": "0dd1eb51-ef69-4826-d11a-a376ab5c5984",
        "colab": {
          "base_uri": "https://localhost:8080/",
          "height": 295
        }
      },
      "source": [
        "plt.clf()\n",
        "acc_values = history_dict['acc']\n",
        "val_acc_values = history_dict['val_acc']\n",
        "plt.plot(epochs, acc_values,'bo', label = 'Training Accuracy')\n",
        "plt.plot(epochs, val_acc_values,'b', label = 'Validating Accuracy')\n",
        "plt.title('Traing and Validating Accuracy')\n",
        "plt.xlabel('Epochs')\n",
        "plt.ylabel('Accuracy')\n",
        "plt.legend()\n",
        "plt.show()\n"
      ],
      "execution_count": 10,
      "outputs": [
        {
          "output_type": "display_data",
          "data": {
            "image/png": "[encoded data removed]",
            "text/plain": [
              "<Figure size 432x288 with 1 Axes>"
            ]
          },
          "metadata": {
            "tags": []
          }
        }
      ]
    },
    {
      "cell_type": "code",
      "metadata": {
        "id": "e-tz0aDvedkD",
        "colab_type": "code",
        "colab": {}
      },
      "source": [
        ""
      ],
      "execution_count": 0,
      "outputs": []
    }
  ]
}